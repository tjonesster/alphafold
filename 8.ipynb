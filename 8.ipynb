{
 "cells": [
  {
   "cell_type": "code",
   "execution_count": 1,
   "id": "f77bc62c",
   "metadata": {
    "scrolled": false
   },
   "outputs": [
    {
     "name": "stderr",
     "output_type": "stream",
     "text": [
      "/home/taylorjones/.local/lib/python3.8/site-packages/Bio/SubsMat/__init__.py:126: BiopythonDeprecationWarning: Bio.SubsMat has been deprecated, and we intend to remove it in a future release of Biopython. As an alternative, please consider using Bio.Align.substitution_matrices as a replacement, and contact the Biopython developers if you still need the Bio.SubsMat module.\n",
      "  warnings.warn(\n"
     ]
    }
   ],
   "source": [
    "\n",
    "\n",
    "\n",
    "\n",
    "\n"
   ]
  },
  {
   "cell_type": "code",
   "execution_count": 23,
   "id": "86871c00",
   "metadata": {},
   "outputs": [
    {
     "data": {
      "image/png": "[encoded data removed]",
      "text/plain": [
       "<Figure size 432x288 with 1 Axes>"
      ]
     },
     "metadata": {
      "needs_background": "light"
     },
     "output_type": "display_data"
    }
   ],
   "source": [
    "from matplotlib import pyplot as plt\n",
    "import os\n",
    "import Bio\n",
    "from Bio.PDB import PDBParser\n",
    "from Bio.PDB.DSSP import DSSP\n",
    "from Bio import pairwise2\n",
    "from Bio.SubsMat import MatrixInfo as matlist\n",
    "import math\n",
    "from sklearn import decomposition\n",
    "from matplotlib import pyplot as plt\n",
    "\n",
    "\n",
    "\n",
    "class pdb_operations:\n",
    "    def __init__(self):\n",
    "        self.parser = PDBParser()\n",
    "        \n",
    "        \n",
    "    def parse_structure(self, pdb_path):\n",
    "\n",
    "        structure = self.parser.get_structure(pdb_path, pdb_path)\n",
    "        model = structure[0]\n",
    "        dssp = DSSP(model, pdb_path)\n",
    "        pca = decomposition.PCA(n_components=3)\n",
    "        \n",
    "        \n",
    "        temp = structure.get_residues()\n",
    "        \n",
    "        thing = [] \n",
    "        for residue in model:\n",
    "\n",
    "            for atom in residue.get_atoms():\n",
    "\n",
    "                if atom.name ==\"CA\":\n",
    "                    thing.append(atom.get_coord())\n",
    "                    \n",
    "        fitted = pca.fit(thing[:len(thing)//1])\n",
    "        transformed = fitted.transform(thing)\n",
    "\n",
    "        trans2 = list(map(lambda x: x[0], transformed))\n",
    "        trans3 = list(map(lambda x: x[1], transformed))\n",
    "        plt.figure()\n",
    "        plt.scatter(range(len(trans2)), trans2)\n",
    "        plt.scatter(range(len(trans3)), trans3)\n",
    "\n",
    "\n",
    "        plt.title(\"Test\")\n",
    "#         print(root.split(\"/\")[1]+\".png\")\n",
    "#         plt.savefig(root.split(\"/\")[1]+\".png\")\n",
    "        plt.show()\n",
    "\n",
    "p = ResiduePicker()\n",
    "p.parse_structure(\"relaxed_model_1.pdb\")"
   ]
  },
  {
   "cell_type": "code",
   "execution_count": 25,
   "id": "d25ee919",
   "metadata": {},
   "outputs": [],
   "source": [
    "\n",
    "\n",
    "input_dirs = [\"2.A.1.1.24.fasta\",\"2.A.1.1.28.fasta\",\"2.A.1.1.3.fasta\",\"2.A.1.1.37.fasta\",\"2.A.1.1.91.fasta\",\"2.A.1.11.1.fasta\",\"2.A.1.13.5.fasta\",\"2.A.1.14.16.fasta\",\"2.A.1.2.15.fasta\",\"2.A.1.2.19.fasta\",\"2.A.1.2.44.fasta\",\"2.A.1.2.5.fasta\",\"2.A.1.2.60.fasta\",\"2.A.1.2.9.fasta\",\"2.A.1.22.6.fasta\",\"2.A.1.4.3.fasta\",\"2.A.1.5.1.fasta\",\"2.A.1.6.4.fasta\",\"2.A.1.7.1.fasta\",\"2.A.1.8.1.fasta\",\"2.A.1.8.10.fasta\",\"2.A.1.9.10.fasta\",\"2.A.17.1.2.fasta\",\"2.A.17.1.4.fasta\",\"2.A.17.1.6.fasta\",\"2.A.17.1.7.fasta\",\"2.A.17.3.1.fasta\",\"2.A.17.4.7.fasta\",\"2.A.17.4.8.fasta\",\"2.A.57.1.1.fasta\",\"2.A.57.2.4.fasta\",\"2.A.60.1.19.fasta\",\"2.A.100.1.4.fasta\",\"2.A.100.2.1.fasta\",\"5.B.2.1.3.fasta\"]\n",
    "\n",
    "p = pdb_operations() \n",
    "\n",
    "for root, dirs, files in os.walk(\".\", topdown=False):\n",
    "\n",
    "    root_split = root.split(\"/\")\n",
    "    if len(root_split) > 1 and root_split[1] in input_dirs and root_split[-1] == \"structure_0\":\n",
    "\n",
    "#         print(root)\n",
    "        for file in files:\n",
    "            \n",
    "            file_split = file.split(\".\")\n",
    "            if file_split[-1] == \"pdb\" and file.startswith(\"unrelaxed\"):\n",
    "\n",
    "                pdb_path = os.path.join(root,file)\n",
    "                p.parse_structure(pdb_path)"
   ]
  },
  {
   "cell_type": "code",
   "execution_count": 3,
   "id": "a55e4b38",
   "metadata": {},
   "outputs": [],
   "source": []
  },
  {
   "cell_type": "code",
   "execution_count": null,
   "id": "ed93f68d",
   "metadata": {},
   "outputs": [],
   "source": []
  },
  {
   "cell_type": "code",
   "execution_count": null,
   "id": "ac74e282",
   "metadata": {},
   "outputs": [],
   "source": []
  },
  {
   "cell_type": "code",
   "execution_count": null,
   "id": "84ff8401",
   "metadata": {},
   "outputs": [],
   "source": []
  },
  {
   "cell_type": "code",
   "execution_count": null,
   "id": "0edfe73d",
   "metadata": {},
   "outputs": [],
   "source": [
    "#                 structure = p.get_structure(\"2.A.1.9.10\", os.path.join(root,file))\n",
    "#                 model = structure[0]\n",
    "#                 dssp = DSSP(model, os.path.join(root,file))\n",
    "#                 print(\"\".join(list(map(lambda x: x[2], dssp.property_list))))\n",
    "\n",
    "#                 pca = decomposition.PCA(n_components=2)\n",
    "#                 thing = [] \n",
    "\n",
    "#                 temp = structure.get_residues()\n",
    "#                 for residue in model:\n",
    "\n",
    "#                     for atom in residue.get_atoms():\n",
    "\n",
    "#                         if atom.name ==\"CA\":\n",
    "#                             thing.append(atom.get_coord())\n",
    "#                 fitted = pca.fit(thing[:len(thing)//1])\n",
    "#                 transformed = fitted.transform(thing)\n",
    "            \n",
    "            \n",
    "#                 trans2 = list(map(lambda x: x[0], transformed))\n",
    "#                 trans3 = list(map(lambda x: x[1], transformed))\n",
    "#                 plt.figure()\n",
    "#                 plt.scatter(range(len(trans2)), trans2)\n",
    "#                 plt.scatter(range(len(trans3)), trans3)\n",
    "                \n",
    "    \n",
    "#                 plt.title(root.split(\"/\")[1])\n",
    "#                 print(root.split(\"/\")[1]+\".png\")\n",
    "#                 plt.savefig(root.split(\"/\")[1]+\".png\")"
   ]
  },
  {
   "cell_type": "code",
   "execution_count": null,
   "id": "e06c557a",
   "metadata": {},
   "outputs": [],
   "source": [
    "Bio.PDB.internal_coords()"
   ]
  }
 ],
 "metadata": {
  "kernelspec": {
   "display_name": "Python 3 (ipykernel)",
   "language": "python",
   "name": "python3"
  },
  "language_info": {
   "codemirror_mode": {
    "name": "ipython",
    "version": 3
   },
   "file_extension": ".py",
   "mimetype": "text/x-python",
   "name": "python",
   "nbconvert_exporter": "python",
   "pygments_lexer": "ipython3",
   "version": "3.8.12"
  }
 },
 "nbformat": 4,
 "nbformat_minor": 5
}
