{
 "cells": [
  {
   "cell_type": "code",
   "execution_count": 4,
   "id": "57ec12f8",
   "metadata": {},
   "outputs": [],
   "source": [
    "a = {\"a\": {\"b\": 1}}\n",
    "b = {\"a\": {\"c\": 2}}"
   ]
  },
  {
   "cell_type": "code",
   "execution_count": 12,
   "id": "c201e126",
   "metadata": {},
   "outputs": [
    {
     "name": "stdout",
     "output_type": "stream",
     "text": [
      "{'b': 1}\n",
      "{'b': 1, 'a': {'c': 2}}\n"
     ]
    }
   ],
   "source": [
    "for key, value in a.items():\n",
    "    print(value)\n",
    "    value = {**value,**b}\n",
    "    print(value)"
   ]
  },
  {
   "cell_type": "code",
   "execution_count": null,
   "id": "960c0cf8",
   "metadata": {},
   "outputs": [],
   "source": []
  }
 ],
 "metadata": {
  "kernelspec": {
   "display_name": "Python 3 (ipykernel)",
   "language": "python",
   "name": "python3"
  },
  "language_info": {
   "codemirror_mode": {
    "name": "ipython",
    "version": 3
   },
   "file_extension": ".py",
   "mimetype": "text/x-python",
   "name": "python",
   "nbconvert_exporter": "python",
   "pygments_lexer": "ipython3",
   "version": "3.9.6"
  }
 },
 "nbformat": 4,
 "nbformat_minor": 5
}
