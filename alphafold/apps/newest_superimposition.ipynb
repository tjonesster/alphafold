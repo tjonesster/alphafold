{
 "cells": [
  {
   "cell_type": "code",
   "execution_count": 252,
   "id": "4a9778ca",
   "metadata": {},
   "outputs": [],
   "source": [
    "import os\n",
    "\n",
    "import Bio\n",
    "from Bio.PDB import PDBParser\n",
    "from Bio.PDB.DSSP import DSSP\n",
    "\n",
    "import numpy\n",
    "import numpy as np\n",
    "import matplotlib.pyplot as plt\n",
    "import argparse\n",
    "import uuid\n",
    "\n",
    "from abc import ABC\n",
    "from abc import abstractmethod\n",
    "import math "
   ]
  },
  {
   "cell_type": "code",
   "execution_count": 314,
   "id": "6f61a5ed",
   "metadata": {},
   "outputs": [],
   "source": [
    "class OperationSet(ABC):\n",
    "    \"\"\"Abstract class for a collection of functions which are designed to operate on a given context\"\"\"\n",
    "    \n",
    "    def __init__(self):\n",
    "        pass\n",
    "    \n",
    "    @abstractmethod\n",
    "    def valid_input():\n",
    "        \"\"\"To be overridden by all children of this class. Determines if a given input is appropriate for this set of operations.\"\"\"\n",
    "        raise NotImplementedError(\"valid_inputs has not been overridden in a child class\")\n",
    "\n",
    "class NumberComperisons(OperationSet):\n",
    "    \"\"\"Implements equalish\"\"\"\n",
    "    def __init__(self):\n",
    "        super().__init__()\n",
    "    \n",
    "    @staticmethod\n",
    "    def eq_ish(a,b,cutoff=.01):\n",
    "        return abs(b-a) < cutoff\n",
    "    \n",
    "class PointOperations(OperationSet):\n",
    "    def __init__(self):\n",
    "        super().__init__()\n",
    "    \n",
    "    def euclidean_distance(self, p1, p2):\n",
    "        return math.sqrt(sum(map(lambda x: x**2, numpy.array(p1) - numpy.array(p2))))\n",
    "\n",
    "class PointCloudOperations(OperationSet):\n",
    "    \"\"\"\n",
    "        Sets of operations which are designed to be used on abstract clouds of points\n",
    "        \n",
    "    \n",
    "    \"\"\"\n",
    "    \n",
    "    def __init__(self):\n",
    "        super().__init__()\n",
    "    \n",
    "    \n",
    "    def rotate_x(self, theta):\n",
    "        return numpy.array([\n",
    "            [0,0,0],\n",
    "            [0,numpy.cos(theta),-numpy.sin(theta)],\n",
    "            [0,numpy.sin(theta),numpy.cos(theta)]\n",
    "        ])\n",
    "\n",
    "    def rotate_y(self, theta):\n",
    "        return numpy.array([\n",
    "            [np.cos(theta),0,numpy.sin(theta)],\n",
    "            [0,1,0],\n",
    "            [-numpy.sin(theta),0,numpy.cos(theta)]\n",
    "        ])\n",
    "\n",
    "    def rotate_z(self, theta):\n",
    "        return numpy.array([\n",
    "            [numpy.cos(theta), -numpy.sin(theta),0],\n",
    "            [numpy.sin(theta), numpy.cos(theta), 0],\n",
    "            [0,0,1]\n",
    "        ])\n",
    "\n",
    "    def d2r(self, theta):\n",
    "        return (theta / 360.0) * (2 * numpy.pi)\n",
    "    \n",
    "    @staticmethod\n",
    "    def valid_input():\n",
    "        return True\n",
    "        \n",
    "    def apply_rotation(self, M, R):\n",
    "\n",
    "        \"\"\"Takes a set of points\"\"\"\n",
    "    \n",
    "#         assert M.shape[-1] ==3\n",
    "#         assert R.shape[-1] == M.shape[-1]\n",
    "#         assert R.shape[-2] == M.shape[-1]\n",
    "        \n",
    "        \n",
    "#         get_diagonal = lambda x: (x[0][0], x[1][1], x[2][2])\n",
    "        \n",
    "\n",
    "#         return numpy.array(list(map(get_diagonal, [numpy.dot(R,point) for point in M])))\n",
    "        return numpy.array([numpy.dot(R,point) for point in M])\n",
    "    \n",
    "    def center_of_mass(self, coords):\n",
    "\n",
    "        \"\"\"Return the center of mass of a point set.\"\"\"\n",
    "        \n",
    "        return numpy.mean(numpy.array(coords).T, axis=1)\n",
    "        \n",
    "    def apply_translation(self, points, translation):\n",
    "\n",
    "        \"\"\"Return the center of mass\"\"\"\n",
    "        points=numpy.array(points)\n",
    "        translation=numpy.array(points)\n",
    "        \n",
    "        return (points + translation)\n",
    "    \n",
    "    def compute_rotation(self, from_coords, to_coords):\n",
    "\n",
    "        \"\"\"Compute a rotation. Assumes that both point clouds are at the origin.\"\"\"\n",
    "        to_coords = numpy.array(to_coords)\n",
    "        from_coords = numpy.array(from_coords)\n",
    "        \n",
    "        H = to_coords @ np.transpose(from_coords)\n",
    "\n",
    "        U, S, Vt = np.linalg.svd(H)\n",
    "        R = Vt.T @ U.T   \n",
    "        return R\n",
    "    \n",
    "    \n",
    "    def superimpose(self, from_coords, to_coords, resids=None, origin_both = True):\n",
    "\n",
    "        \"\"\"Superimposes two structures -- assumes that point clouds stricly contain the same elements\n",
    "            Finds the midpoint, translates both to the origin. \n",
    "            originally this was intended to move model 1 to model 2 but it ended up making more sense to translate both of them to the origin\"\"\"\n",
    "\n",
    "        from_coords = numpy.array(from_coords)\n",
    "        to_coords = numpy.array(to_coords)\n",
    "\n",
    "        assert from_coords.shape == to_coords.shape, \"The shape of the input arrays did not match up.\"\n",
    "\n",
    "        to_centroid = self.center_of_mass(to_coords)\n",
    "        from_centroid = self.center_of_mass(from_coords)\n",
    "\n",
    "        to_coords = self.apply_translation(to_coords, -to_centroid)\n",
    "        from_coords = self.apply_translation(from_coords, -from_centroid)\n",
    "\n",
    "        R = self.compute_rotation(from_coords,to_coords)\n",
    "        \n",
    "        transformed_from = self.apply_rotation(from_coords, R)\n",
    "        transformed_to = to_coords\n",
    "        \n",
    "        if not origin_both:\n",
    "            transformed_from = self.apply_translation(transformed_from, to_centroid)\n",
    "            transformed_to = self.apply_translation(transformed_to, to_centroid)\n",
    "        \n",
    "\n",
    "        return transformed_from, transformed_to\n",
    "    \n",
    "\n",
    "    def scatter_3d(self, point_groups = [], axis_labels = ['PC1', 'PC2', 'PC3'], filename = None):\n",
    "        \n",
    "        \"\"\"Produces a 3d scatter plot of all of the points in 3 provided lists\"\"\"\n",
    "        \n",
    "        markers= [\"o\", \"^\"]\n",
    "\n",
    "        fig = plt.figure()\n",
    "        ax = fig.add_subplot(projection='3d')\n",
    "\n",
    "        for pg in point_groups:\n",
    "            xs = list(map(lambda x: x[0], pg))\n",
    "            ys = list(map(lambda x: x[1], pg))\n",
    "            zs = list(map(lambda x: x[2], pg))\n",
    "            m = markers[0]\n",
    "            ax.scatter(xs, ys, zs,marker=m)\n",
    "\n",
    "        ax.set_xlabel(axis_labels[0])\n",
    "        ax.set_ylabel(axis_labels[1])\n",
    "        ax.set_zlabel(axis_labels[2])\n",
    "\n",
    "\n",
    "        if filename != None:\n",
    "            plt.savefig(filename)\n",
    "        else: \n",
    "            plt.show()\n",
    "\n",
    "   \n",
    "    def lists_to_zipped_list(self, things: list):\n",
    "        \"\"\"Take X lists of N elements and return N lists of X elements\n",
    "            Just uses the transpose function on a numpy array\n",
    "            Was previouly casting the return type but that ended up being problematic so we will assume that an numpy array is the ideal return type\n",
    "            This function should really be removed. It does not make sense to not just transpose... can keep if additional logic is going to be added going forwards\"\"\"\n",
    "\n",
    "        if type(things) != numpy.ndarray:\n",
    "            tmp = numpy.array(things)\n",
    "        else:\n",
    "            tmp = things\n",
    "\n",
    "        assert len(tmp.shape) ==2, \"The dimensions of your input to lists_to_zipped_list did not make sense.\"\n",
    "\n",
    "        return tmp.T\n",
    "        \n",
    "class pdb_file:\n",
    "    \"\"\"Takes a filename and allows you to pull information out i\"\"\"\n",
    "    \n",
    "    def __init__(self, filename, pdb_parser = None):\n",
    "        \n",
    "        if pdb_parser == None:\n",
    "            pdb_parser = PDBParser()\n",
    "        \n",
    "        self.filename = filename\n",
    "        self.uuid = uuid.uuid4()\n",
    "        self.structure = pdb_parser.get_structure(str(self.uuid), self.filename)\n",
    "        self.model = self.structure[0]\n",
    "        self.dssp = DSSP(self.model, self.filename)\n",
    "\n",
    "    def get_model(self):\n",
    "        return self.model\n",
    "    \n",
    "    def get_uuid(self):\n",
    "        return self.uuid\n",
    "    \n",
    "    def get_filename(self):\n",
    "        return self.filename\n",
    "\n",
    "    def get_structure(self):\n",
    "        return self.structure\n",
    "    \n",
    "    def get_dssp(self):\n",
    "        return self.dssp\n",
    "\n",
    "    def center_of_mass(self):\n",
    "        return self.structure.center_of_mass()\n",
    "            \n",
    "    def get_coords(self):\n",
    "        \"\"\"asdfasdf\"\"\"\n",
    "        \n",
    "        return numpy.array([atom.get_coord() for atom in self.model.get_atoms() if atom.get_full_id()[3][1] in resids]).T\n",
    "\n",
    "    def get_contiguous(self, ele_types = [\"H\"]):\n",
    "        \n",
    "        \"\"\"Computes sets of residues which should be included in the final region\"\"\"\n",
    "        ds_prop = self.get_dssp().property_dict\n",
    "        id_list = list(map(lambda x: x[0], ds_prop.values()))\n",
    "        ss_call = list(map(lambda x: x[2], ds_prop.values()))\n",
    "        ds_dict = dict(zip(id_list, ss_call))\n",
    "\n",
    "        helical_ids = dict(\n",
    "                        list(\n",
    "                            filter(lambda x: x[1] in ele_types, ds_dict.items()\n",
    "                                  )\n",
    "                        )\n",
    "        ).keys()\n",
    "\n",
    "        start = helical_ids[0] # The elements that started the segment of \n",
    "        last = helical_ids[0]\n",
    "\n",
    "        contiguous_regions = [] \n",
    "\n",
    "        for i in helical_ids:\n",
    "\n",
    "            if i == last+1:\n",
    "                pass\n",
    "            else:\n",
    "                if start != last:\n",
    "                    helices.append((start,last))\n",
    "                start = i\n",
    "\n",
    "            last = i\n",
    "            \n",
    "        if start != last:\n",
    "            helices.append((start,last+1))\n",
    "\n",
    "        return helices\n",
    "\n",
    "\n",
    "# args\n",
    "# p = PDBParser()\n",
    "\n",
    "'''\n",
    "argparser = argparse.ArgumentParser(description=\"Superimpose two structures and compute some variance metrics\")\n",
    "argparser.add_argument('file_1')\n",
    "argparser.add_argument('file_2')\n",
    "\n",
    "args = argparser.parse_args()\n",
    "'''\n",
    "\n",
    "\n",
    "args = {\n",
    "    \"file_1\":\"unrelaxed_structure_8_model_5.pdb\",\n",
    "    \"file_2\":\"unrelaxed_structure_9_model_5.pdb\"\n",
    "}\n",
    "\n",
    "structure = pdb_file(args['file_1'])\n",
    "structure1 = pdb_file(args['file_2'])\n",
    "\n",
    "# structure = p.get_structure('struct_0', args['file_1'])\n",
    "# model = structure[0]\n",
    "# dssp = DSSP(model,args['file_1'])\n",
    "\n",
    "# structure1 = p.get_structure('struct_0', args['file_2'])\n",
    "# model1 = structure1[0]\n",
    "# dssp1 = DSSP(model1,args['file_2'])\n",
    "\n",
    "\n",
    "\n",
    "# structure.get_coords()\n",
    "# structure.get_coords()\n",
    "# cd1, cd2 = superimpose(structure.get_coords(),structure1.get_coords())\n",
    "\n"
   ]
  },
  {
   "cell_type": "code",
   "execution_count": 387,
   "id": "a3d31221",
   "metadata": {},
   "outputs": [],
   "source": [
    "# pdb1 = pdb_file(\"unrelaxed_structure_8_model_5.pdb\")"
   ]
  },
  {
   "cell_type": "code",
   "execution_count": 48,
   "id": "a9b52cf7",
   "metadata": {},
   "outputs": [],
   "source": [
    "# dssp= structure.get_dssp()\n",
    "# resids = [p for l in structure.get_contiguous(dssp.property_dict.items()) for p in l]\n",
    "# dssp.property_dict.values()\n",
    "# [p for l in dssp.property_dict.values() for p in l]"
   ]
  },
  {
   "cell_type": "code",
   "execution_count": null,
   "id": "d60538cc",
   "metadata": {},
   "outputs": [],
   "source": []
  },
  {
   "cell_type": "code",
   "execution_count": null,
   "id": "deeee69d",
   "metadata": {},
   "outputs": [],
   "source": []
  },
  {
   "cell_type": "code",
   "execution_count": 363,
   "id": "1bc117b0",
   "metadata": {},
   "outputs": [],
   "source": [
    "# structure.center_of_mass()\n",
    "\n",
    "# cd1_rot, cd2_rot = superimpose(model,model1)\n",
    "\n",
    "# scatter_3d(point_groups = [cd1,cd2])"
   ]
  },
  {
   "cell_type": "code",
   "execution_count": 364,
   "id": "f1b5b0eb",
   "metadata": {},
   "outputs": [],
   "source": [
    "# structure1.center_of_mass()"
   ]
  },
  {
   "cell_type": "code",
   "execution_count": 163,
   "id": "d71b62e1",
   "metadata": {},
   "outputs": [
    {
     "data": {
      "image/png": "[encoded data removed]",
      "text/plain": [
       "<Figure size 432x288 with 1 Axes>"
      ]
     },
     "metadata": {
      "needs_background": "light"
     },
     "output_type": "display_data"
    }
   ],
   "source": [
    "# lists_to_zipped_list()\n",
    "points_1= [[0,0,0],\n",
    " [0,1,0],\n",
    " [0,0,1],\n",
    " [0,0,0]\n",
    "]\n",
    "points_2= [[0,1,0],\n",
    " [0,2,0],\n",
    " [0,1,1],\n",
    " [0,1,0]\n",
    "]\n",
    "\n",
    "PCO = PointCloudOperations()\n",
    "# points_1,points_2 = PCO.superimpose(points_1,points_2)\n",
    "fig = plt.figure()\n",
    "# markers= [\"o\", \"^\"]\n",
    "\n",
    "\n",
    "ax = fig.add_subplot(projection='3d')\n",
    "\n",
    "x,y,z =lists_to_zipped_list(points_1)\n",
    "ax.scatter(x,y,z, marker=\"^\")\n",
    "\n",
    "\n",
    "x2,y2,z2 = PCO.lists_to_zipped_list(points_2)\n",
    "ax.scatter(x2,y2,z2)\n",
    "\n",
    "plt.show()\n",
    "\n"
   ]
  },
  {
   "cell_type": "code",
   "execution_count": 51,
   "id": "ea92a43b",
   "metadata": {},
   "outputs": [],
   "source": [
    "# numpy.array(points_1).T"
   ]
  },
  {
   "cell_type": "code",
   "execution_count": 52,
   "id": "c4d42d09",
   "metadata": {},
   "outputs": [],
   "source": [
    "# points_2\n"
   ]
  },
  {
   "cell_type": "code",
   "execution_count": 9,
   "id": "f37c66b7",
   "metadata": {},
   "outputs": [],
   "source": [
    "# def lists_to_zipped_list(things: list):\n",
    "#         \"\"\"Take X lists of N elements and return N lists of X elements\n",
    "#             Just uses the transpose function on a numpy array\n",
    "#             Was previouly casting the return type but that ended up being problematic so we will assume that an numpy array is the ideal return type\n",
    "#             This function should really be removed. It does not make sense to not just transpose... can keep if additional logic is going to be added going forwards\"\"\"\n",
    "\n",
    "#         if type(things) != numpy.ndarray:\n",
    "#             tmp = numpy.array(things)\n",
    "#         else:\n",
    "#             tmp = things\n",
    "\n",
    "#         assert len(tmp.shape) ==2, \"The dimensions of your input to lists_to_zipped_list did not make sense.\"\n",
    "\n",
    "#         return tmp.T"
   ]
  },
  {
   "cell_type": "code",
   "execution_count": 316,
   "id": "524a9e6c",
   "metadata": {},
   "outputs": [
    {
     "data": {
      "image/png": "[encoded data removed]",
      "text/plain": [
       "<Figure size 432x288 with 1 Axes>"
      ]
     },
     "metadata": {
      "needs_background": "light"
     },
     "output_type": "display_data"
    }
   ],
   "source": [
    "points_1 = [\n",
    "    [0,0,0],\n",
    "    [0,1,0],\n",
    "    [0,0,1],\n",
    "    [0,1,1],\n",
    "]\n",
    "\n",
    "points_2 = [\n",
    "    [1,0,0],\n",
    "    [1,1,0],\n",
    "    [1,0,1],\n",
    "    [1,1,1],\n",
    "]\n",
    "PCO=PointCloudOperations()\n",
    "\n",
    "\n",
    "PCO.scatter_3d(point_groups=[points_1,points_2])\n",
    "\n",
    "# points_1, points_2 = PCO.superimpose(points_1,points_2)\n",
    "# PCO.scatter_3d(point_groups=[points_1,points_2])\n",
    "\n",
    "# PCO.compute_rotation(points_1,points_2)\n",
    "\n",
    "# centroid_1 = PCO.center_of_mass(points_1)\n",
    "# PCO.apply_translation(points_1, centroid_1)\n",
    "# centroid_1"
   ]
  },
  {
   "cell_type": "code",
   "execution_count": 161,
   "id": "f0247d70",
   "metadata": {},
   "outputs": [],
   "source": [
    "# points_1"
   ]
  },
  {
   "cell_type": "code",
   "execution_count": 160,
   "id": "beaf56d9",
   "metadata": {},
   "outputs": [],
   "source": [
    "# points_2"
   ]
  },
  {
   "attachments": {
    "a6821937d5031de282a190f75312353c970aa2df.svg": {
     "image/svg+xml": [
      "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"
     ]
    }
   },
   "cell_type": "markdown",
   "id": "845f7e0d",
   "metadata": {},
   "source": [
    "![a6821937d5031de282a190f75312353c970aa2df.svg](attachment:a6821937d5031de282a190f75312353c970aa2df.svg)\n"
   ]
  },
  {
   "cell_type": "code",
   "execution_count": 304,
   "id": "e4952fc1",
   "metadata": {},
   "outputs": [
    {
     "data": {
      "text/plain": [
       "array([ 1.,  1., -1.])"
      ]
     },
     "execution_count": 304,
     "metadata": {},
     "output_type": "execute_result"
    }
   ],
   "source": [
    "\n",
    "\n",
    "numpy.dot(rotate_y(d2r(90)),numpy.array([1,1,1]))\n"
   ]
  },
  {
   "cell_type": "code",
   "execution_count": 307,
   "id": "2ec88be6",
   "metadata": {},
   "outputs": [],
   "source": [
    "# points_3 = PCO.apply_rotation(points_1, rotate_y(d2r(50)))\n",
    "# points_1 \n",
    "# points_3 = PCO.apply_rotation(points_1,drotate_y(50))\n",
    "# PCO.scatter_3d(point_groups=[points_3])\n",
    "# PCO.scatter_3d(point_groups=[points_1, points_3])\n",
    "# points_3"
   ]
  },
  {
   "cell_type": "code",
   "execution_count": 317,
   "id": "3c511532",
   "metadata": {},
   "outputs": [
    {
     "data": {
      "image/png": "[encoded data removed]",
      "text/plain": [
       "<Figure size 432x288 with 1 Axes>"
      ]
     },
     "metadata": {
      "needs_background": "light"
     },
     "output_type": "display_data"
    }
   ],
   "source": [
    "test = [] \n",
    "for p in points_1:\n",
    "    t =  numpy.dot(rotate_y(d2r(50)), p)\n",
    "    test.append(t)\n",
    "#     print(t)\n",
    "    \n",
    "PCO.scatter_3d(point_groups=[test])"
   ]
  },
  {
   "cell_type": "code",
   "execution_count": 292,
   "id": "40bdba88",
   "metadata": {},
   "outputs": [
    {
     "data": {
      "text/plain": [
       "1.0"
      ]
     },
     "execution_count": 292,
     "metadata": {},
     "output_type": "execute_result"
    }
   ],
   "source": [
    "\n",
    "\n",
    "euclidean_distance([0,1,0],[0,0,0])"
   ]
  },
  {
   "cell_type": "code",
   "execution_count": 310,
   "id": "15aa250e",
   "metadata": {},
   "outputs": [
    {
     "data": {
      "text/plain": [
       "[array([0., 0., 0.]),\n",
       " array([0., 1., 0.]),\n",
       " array([0.76604444, 0.        , 0.64278761]),\n",
       " array([0.76604444, 1.        , 0.64278761])]"
      ]
     },
     "execution_count": 310,
     "metadata": {},
     "output_type": "execute_result"
    }
   ],
   "source": [
    "test"
   ]
  },
  {
   "cell_type": "code",
   "execution_count": 313,
   "id": "198ddd30",
   "metadata": {},
   "outputs": [
    {
     "name": "stdout",
     "output_type": "stream",
     "text": [
      "0.0\n",
      "1.0\n",
      "1.0\n",
      "1.4142135623730951\n"
     ]
    }
   ],
   "source": [
    "for t in test:\n",
    "    print(euclidean_distance(test[0], t))"
   ]
  }
 ],
 "metadata": {
  "kernelspec": {
   "display_name": "Python 3 (ipykernel)",
   "language": "python",
   "name": "python3"
  },
  "language_info": {
   "codemirror_mode": {
    "name": "ipython",
    "version": 3
   },
   "file_extension": ".py",
   "mimetype": "text/x-python",
   "name": "python",
   "nbconvert_exporter": "python",
   "pygments_lexer": "ipython3",
   "version": "3.9.6"
  }
 },
 "nbformat": 4,
 "nbformat_minor": 5
}
