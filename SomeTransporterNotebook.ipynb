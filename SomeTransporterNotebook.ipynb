{
 "cells": [
  {
   "cell_type": "code",
   "execution_count": 1,
   "id": "083eb4f0",
   "metadata": {},
   "outputs": [],
   "source": [
    "import subprocess\n",
    "import os \n"
   ]
  },
  {
   "cell_type": "code",
   "execution_count": 2,
   "id": "8427f33d",
   "metadata": {},
   "outputs": [],
   "source": [
    "# subprocess.call(\"TMalign\")\n",
    "inputs = ['2.A.1.8.1.fasta', '2.A.1.5.1.fasta', '2.A.1.13.5.fasta', '2.A.1.9.10.fasta', '2.A.57.2.4.fasta', '2.A.17.1.2.fasta', '2.A.1.2.5.fasta', '2.A.1.4.3.fasta', '2.A.1.2.44.fasta', '2.A.17.4.7.fasta', '2.A.17.1.7.fasta', '2.A.1.14.16.fasta', '2.A.17.1.4.fasta', '2.A.1.1.24.fasta', '2.A.100.1.4.fasta', '2.A.60.1.19.fasta', '2.A.1.11.1.fasta', '2.A.1.2.19.fasta', '2.A.1.2.15.fasta', '2.A.100.2.1.fasta', '2.A.17.1.6.fasta', '2.A.1.1.91.fasta', '2.A.1.1.37.fasta', '2.A.1.7.1.fasta', '2.A.1.22.6.fasta', '2.A.1.1.28.fasta', '2.A.17.4.8.fasta', '2.A.1.2.60.fasta', '.ipynb', '2.A.1.1.3.fasta', '2.A.57.1.1.fasta', '2.A.1.8.10.fasta']\n",
    "struct_dirs = [\"structure_\" + str(i) for i in range(10)]\n",
    "endings = [\"_wt.fasta\", \"_lt.fasta\", \"_gt.fasta\"]"
   ]
  },
  {
   "cell_type": "code",
   "execution_count": 13,
   "id": "3b0b16ff",
   "metadata": {},
   "outputs": [],
   "source": [
    "output = {} \n",
    "for inp in inputs: \n",
    "    for ending in endings:\n",
    "        for struct_dir in struct_dirs:\n",
    "#             print(inp + \"_wt.fasta/structure_0/unrelaxed_structure_0_model_5.pdb\")\n",
    "#             print(\" \".join([\"/home/taylorjones/software/bin/TMalign\",  inp + \"_wt.fasta/structure_0/unrelaxed_structure_0_model_5.pdb\", inp+ending+\"/\"+struct_dir+\"/unrelaxed_\"+struct_dir+\"_model_5.pdb\",\" -outfmt 2\"]))\n",
    "\n",
    "            tmp = subprocess.run([\"/home/taylorjones/software/bin/TMalign\",  inp + \"_wt.fasta/structure_0/unrelaxed_structure_0_model_5.pdb\", inp+ending+\"/\"+struct_dir+\"/unrelaxed_\"+struct_dir+\"_model_5.pdb\"], capture_output=True)\n",
    "            output[(inp + \"_wt.fasta/structure_0/unrelaxed_structure_0_model_5.pdb\", inp+ending+\"/\"+struct_dir+\"/unrelaxed_\"+struct_dir+\"_model_5.pdb\")]  = tmp"
   ]
  },
  {
   "cell_type": "code",
   "execution_count": null,
   "id": "326cbab5",
   "metadata": {},
   "outputs": [],
   "source": [
    "%%bash \n",
    "\n",
    "TMalign"
   ]
  },
  {
   "cell_type": "code",
   "execution_count": null,
   "id": "bc7c9399",
   "metadata": {},
   "outputs": [],
   "source": [
    "subprocess.call(\"TMalign\")"
   ]
  },
  {
   "cell_type": "code",
   "execution_count": 12,
   "id": "36f7f2fd",
   "metadata": {},
   "outputs": [],
   "source": [
    "# output.values()"
   ]
  }
 ],
 "metadata": {
  "kernelspec": {
   "display_name": "Python 3 (ipykernel)",
   "language": "python",
   "name": "python3"
  },
  "language_info": {
   "codemirror_mode": {
    "name": "ipython",
    "version": 3
   },
   "file_extension": ".py",
   "mimetype": "text/x-python",
   "name": "python",
   "nbconvert_exporter": "python",
   "pygments_lexer": "ipython3",
   "version": "3.8.12"
  }
 },
 "nbformat": 4,
 "nbformat_minor": 5
}
