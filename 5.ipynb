{
 "cells": [
  {
   "cell_type": "code",
   "execution_count": null,
   "id": "b3f0fe94",
   "metadata": {},
   "outputs": [],
   "source": []
  },
  {
   "cell_type": "code",
   "execution_count": 2,
   "id": "b23856d6",
   "metadata": {},
   "outputs": [],
   "source": [
    "import pickle\n",
    "import numpy as np\n",
    "from scipy import special\n",
    "import matplotlib.pyplot as plt\n",
    "import seaborn"
   ]
  },
  {
   "cell_type": "code",
   "execution_count": 3,
   "id": "95ac9c17",
   "metadata": {},
   "outputs": [
    {
     "ename": "FileNotFoundError",
     "evalue": "[Errno 2] No such file or directory: 'result_model_3.pkl'",
     "output_type": "error",
     "traceback": [
      "\u001b[0;31m---------------------------------------------------------------------------\u001b[0m",
      "\u001b[0;31mFileNotFoundError\u001b[0m                         Traceback (most recent call last)",
      "\u001b[0;32m/tmp/ipykernel_72096/3439768559.py\u001b[0m in \u001b[0;36m<module>\u001b[0;34m\u001b[0m\n\u001b[0;32m----> 1\u001b[0;31m \u001b[0;32mwith\u001b[0m \u001b[0mopen\u001b[0m\u001b[0;34m(\u001b[0m\u001b[0;34m\"result_model_3.pkl\"\u001b[0m\u001b[0;34m,\u001b[0m \u001b[0;34m\"rb\"\u001b[0m\u001b[0;34m)\u001b[0m \u001b[0;32mas\u001b[0m \u001b[0mf\u001b[0m\u001b[0;34m:\u001b[0m\u001b[0;34m\u001b[0m\u001b[0;34m\u001b[0m\u001b[0m\n\u001b[0m\u001b[1;32m      2\u001b[0m     \u001b[0mt\u001b[0m \u001b[0;34m=\u001b[0m \u001b[0mpickle\u001b[0m\u001b[0;34m.\u001b[0m\u001b[0mload\u001b[0m\u001b[0;34m(\u001b[0m\u001b[0mf\u001b[0m\u001b[0;34m)\u001b[0m\u001b[0;34m\u001b[0m\u001b[0;34m\u001b[0m\u001b[0m\n",
      "\u001b[0;31mFileNotFoundError\u001b[0m: [Errno 2] No such file or directory: 'result_model_3.pkl'"
     ]
    }
   ],
   "source": [
    "with open(\"result_model_3.pkl\", \"rb\") as f:\n",
    "    t = pickle.load(f)"
   ]
  },
  {
   "cell_type": "code",
   "execution_count": null,
   "id": "15583e46",
   "metadata": {},
   "outputs": [],
   "source": [
    "temp = []\n",
    "for i in t['distogram']['logits']:\n",
    "    for j in i:\n",
    "        temp.append(max(special.softmax(j)))\n",
    "        print(max(special.softmax(j)))"
   ]
  },
  {
   "cell_type": "code",
   "execution_count": null,
   "id": "43a664ac",
   "metadata": {},
   "outputs": [],
   "source": [
    "empty_map = np.reshape(temp,(681,681))"
   ]
  },
  {
   "cell_type": "code",
   "execution_count": null,
   "id": "86d6ca74",
   "metadata": {},
   "outputs": [],
   "source": [
    "zeroed =   np.zeros(681)\n",
    "for element in empty_map:\n",
    "    zeroed = np.add(zeroed,element)"
   ]
  },
  {
   "cell_type": "code",
   "execution_count": null,
   "id": "35f31e97",
   "metadata": {},
   "outputs": [],
   "source": [
    "zeroed"
   ]
  },
  {
   "cell_type": "code",
   "execution_count": null,
   "id": "80caeb6c",
   "metadata": {},
   "outputs": [],
   "source": [
    "plt.figure(figsize=(15,15))\n",
    "seaborn.heatmap(empty_map)\n",
    "plt.savefig(\"testing.png\")"
   ]
  },
  {
   "cell_type": "code",
   "execution_count": null,
   "id": "5a51d7ea",
   "metadata": {},
   "outputs": [],
   "source": [
    "plt.figure(figsize=(15,1))\n",
    "seaborn.heatmap([zeroed])\n",
    "plt.savefig(\"testing.png\")"
   ]
  }
 ],
 "metadata": {
  "kernelspec": {
   "display_name": "Python 3 (ipykernel)",
   "language": "python",
   "name": "python3"
  },
  "language_info": {
   "codemirror_mode": {
    "name": "ipython",
    "version": 3
   },
   "file_extension": ".py",
   "mimetype": "text/x-python",
   "name": "python",
   "nbconvert_exporter": "python",
   "pygments_lexer": "ipython3",
   "version": "3.8.12"
  }
 },
 "nbformat": 4,
 "nbformat_minor": 5
}
